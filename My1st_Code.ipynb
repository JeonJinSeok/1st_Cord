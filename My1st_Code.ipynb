{
  "nbformat": 4,
  "nbformat_minor": 0,
  "metadata": {
    "colab": {
      "provenance": [],
      "authorship_tag": "ABX9TyM1vehYnEf8sjBkH4NPAoBD",
      "include_colab_link": true
    },
    "kernelspec": {
      "name": "python3",
      "display_name": "Python 3"
    },
    "language_info": {
      "name": "python"
    }
  },
  "cells": [
    {
      "cell_type": "markdown",
      "metadata": {
        "id": "view-in-github",
        "colab_type": "text"
      },
      "source": [
        "<a href=\"https://colab.research.google.com/github/JeonJinSeok/1st_Cord/blob/main/My1st_Code.ipynb\" target=\"_parent\"><img src=\"https://colab.research.google.com/assets/colab-badge.svg\" alt=\"Open In Colab\"/></a>"
      ]
    },
    {
      "cell_type": "markdown",
      "source": [
        "1. 나의 생애 첫 코드작성(Hello World)"
      ],
      "metadata": {
        "id": "ILWNDKJlhADx"
      }
    },
    {
      "cell_type": "code",
      "execution_count": 3,
      "metadata": {
        "colab": {
          "base_uri": "https://localhost:8080/"
        },
        "id": "gk4tfFHOcNvn",
        "outputId": "dc9de0b9-0517-477b-eb80-5ba618e8ab78"
      },
      "outputs": [
        {
          "output_type": "stream",
          "name": "stdout",
          "text": [
            "hello world!\n"
          ]
        }
      ],
      "source": [
        "print(\"hello world!\")"
      ]
    },
    {
      "cell_type": "markdown",
      "source": [
        "2. 사칙연산(+,-,*,/)"
      ],
      "metadata": {
        "id": "WDWYdN0XkBIX"
      }
    },
    {
      "cell_type": "code",
      "source": [
        "print(4+4,4-2,4*4,int(4/2))"
      ],
      "metadata": {
        "colab": {
          "base_uri": "https://localhost:8080/"
        },
        "id": "D94ItLnlkPr-",
        "outputId": "d97218ed-7f09-4b30-839b-fd9f4842ebf6"
      },
      "execution_count": 9,
      "outputs": [
        {
          "output_type": "stream",
          "name": "stdout",
          "text": [
            "8 2 16 2\n"
          ]
        }
      ]
    }
  ]
}